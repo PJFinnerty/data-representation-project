{
 "cells": [
  {
   "cell_type": "markdown",
   "metadata": {},
   "source": [
    "<br>\n",
    "\n",
    "# Data Representation Project Research\n",
    "\n",
    "***\n",
    "\n",
    "<br>"
   ]
  },
  {
   "cell_type": "code",
   "execution_count": 6,
   "metadata": {},
   "outputs": [],
   "source": [
    "import json\n",
    "\n",
    "import requests\n",
    "\n",
    "import mysql.connector"
   ]
  },
  {
   "cell_type": "markdown",
   "metadata": {},
   "source": [
    "### Insert into table"
   ]
  },
  {
   "cell_type": "code",
   "execution_count": 22,
   "metadata": {},
   "outputs": [],
   "source": [
    "#import mysql.connector\n",
    "\n",
    "mydb = mysql.connector.connect(\n",
    "    host = \"localhost\", user=\"root\", password=\"root\",\n",
    "    database=\"moviesDB\")\n",
    "\n",
    "mycursor = mydb.cursor()\n",
    "sql = \"insert into student_x (name, age) values(%s, %s)\"\n",
    "values=(\"Mary\", 16) \n",
    "mycursor.execute(sql, values)\n",
    "mydb.commit()\n",
    "\n",
    "#cursor.close() "
   ]
  },
  {
   "cell_type": "code",
   "execution_count": 29,
   "metadata": {},
   "outputs": [],
   "source": [
    "#import mysql.connector\n",
    "\n",
    "mydb = mysql.connector.connect(\n",
    "    host = \"localhost\", user=\"root\", password=\"root\",\n",
    "    database=\"moviesDB\")\n",
    "\n",
    "mycursor = mydb.cursor()\n",
    "sql = \"insert into student_x (name, age) values(%s, %s)\"\n",
    "values=(\"Tommy\", 33) \n",
    "mycursor.execute(sql, values)\n",
    "mydb.commit()\n",
    "\n",
    "#cursor.close() "
   ]
  },
  {
   "cell_type": "markdown",
   "metadata": {},
   "source": [
    "### Select where id is 1"
   ]
  },
  {
   "cell_type": "code",
   "execution_count": 26,
   "metadata": {},
   "outputs": [
    {
     "name": "stdout",
     "output_type": "stream",
     "text": [
      "(1, 'Mary', 16)\n"
     ]
    }
   ],
   "source": [
    "\n",
    "mycursor = mydb.cursor()\n",
    "sql = \"select * from student_x where id = %s\"\n",
    "values = (1,)\n",
    "\n",
    "mycursor.execute(sql,values)\n",
    "result = mycursor\n",
    "for x in result:\n",
    "    print(x)"
   ]
  },
  {
   "cell_type": "markdown",
   "metadata": {},
   "source": [
    "### Update"
   ]
  },
  {
   "cell_type": "code",
   "execution_count": 27,
   "metadata": {},
   "outputs": [],
   "source": [
    "#import mysql.connector\n",
    "\n",
    "mydb = mysql.connector.connect(\n",
    "    host = \"localhost\", user=\"root\", password=\"root\",\n",
    "    database=\"moviesDB\")\n",
    "\n",
    "mycursor = mydb.cursor()\n",
    "sql = \"update student_x set name=%s, age=%s where id=%s\"\n",
    "values=(\"Mary\", 22, 1) \n",
    "mycursor.execute(sql, values)\n",
    "mydb.commit()\n",
    "\n",
    "#cursor.close() "
   ]
  },
  {
   "cell_type": "code",
   "execution_count": 31,
   "metadata": {},
   "outputs": [
    {
     "name": "stdout",
     "output_type": "stream",
     "text": [
      "(2, 'Tommy', 33)\n"
     ]
    }
   ],
   "source": [
    "\n",
    "mycursor = mydb.cursor()\n",
    "sql = \"select * from student_x where id = %s\"\n",
    "values = (2,)\n",
    "\n",
    "mycursor.execute(sql,values)\n",
    "result = mycursor\n",
    "for x in result:\n",
    "    print(x)"
   ]
  },
  {
   "cell_type": "markdown",
   "metadata": {},
   "source": [
    "### Delete"
   ]
  },
  {
   "cell_type": "code",
   "execution_count": 32,
   "metadata": {},
   "outputs": [],
   "source": [
    "\n",
    "mycursor = mydb.cursor()\n",
    "sql = \"delete from student_x where id = %s\"\n",
    "values = (1,)\n",
    "\n",
    "mycursor.execute(sql,values)\n",
    "result = mycursor\n",
    "for x in result:\n",
    "    print(x)"
   ]
  },
  {
   "cell_type": "markdown",
   "metadata": {},
   "source": [
    "#### Check"
   ]
  },
  {
   "cell_type": "code",
   "execution_count": 34,
   "metadata": {},
   "outputs": [],
   "source": [
    "\n",
    "mycursor = mydb.cursor()\n",
    "sql = \"select * from student_x where id = %s\"\n",
    "values = (1,)\n",
    "\n",
    "mycursor.execute(sql,values)\n",
    "result = mycursor\n",
    "for x in result:\n",
    "    print(x)"
   ]
  },
  {
   "cell_type": "markdown",
   "metadata": {},
   "source": [
    "### Put into a file that can be resused"
   ]
  },
  {
   "cell_type": "code",
   "execution_count": null,
   "metadata": {},
   "outputs": [],
   "source": []
  },
  {
   "cell_type": "code",
   "execution_count": null,
   "metadata": {},
   "outputs": [],
   "source": []
  },
  {
   "cell_type": "code",
   "execution_count": null,
   "metadata": {},
   "outputs": [],
   "source": []
  },
  {
   "cell_type": "code",
   "execution_count": null,
   "metadata": {},
   "outputs": [],
   "source": []
  },
  {
   "cell_type": "code",
   "execution_count": null,
   "metadata": {},
   "outputs": [],
   "source": [
    "# Json Commands\n",
    "data = {\n",
    "    'name':'joe',\n",
    "    'age': 21,\n",
    "    \"student\": True\n",
    "}\n",
    "\n",
    "file = open(\"simple.json\", \"w\")\n",
    "\n",
    "json.dump(data,file, indent=4)\n",
    "\n",
    "jsonString = json.dumps(data)\n",
    "print(jsonString)\n",
    "\n",
    "#json.dump()\n",
    "#json.load()"
   ]
  },
  {
   "cell_type": "code",
   "execution_count": null,
   "metadata": {},
   "outputs": [],
   "source": [
    "# Request Command\n",
    "\n",
    "import requests\n",
    "\n",
    "url = 'http://127.0.0.1:5000/cars'\n",
    "data = {'reg':'123', 'make':'blah', 'model':'blah', 'price':1234}\n",
    "\n",
    "cars = open('cars.json', 'w')\n",
    "\n",
    "response = requests.get(url, json=cars)\n",
    "print(response.status_code)\n",
    "print(response.json())\n",
    "\n",
    "\n",
    "\n",
    "# get status code\n",
    "#print(response.status_code)\n",
    "# Get headers from gmit\n",
    "#print(response.headers)"
   ]
  },
  {
   "cell_type": "code",
   "execution_count": null,
   "metadata": {},
   "outputs": [],
   "source": [
    "# Read and Write\n",
    "f = oen(\"../../week02/carviewer2.html\", \"r\")\n",
    "\n",
    "html = f.read()"
   ]
  },
  {
   "cell_type": "code",
   "execution_count": null,
   "metadata": {},
   "outputs": [],
   "source": [
    "# Write to excel files\n",
    "\n",
    "from xlwt import *\n",
    "w = Workbook()\n",
    "ws = w.add_sheet('cars')\n",
    "ws.write(0,0,\"data1\")\n",
    "\n",
    "row=1\n",
    "col=1\n",
    "ws.write(row, col, \"data\")\n",
    "\n",
    "w.save('cars.xls')"
   ]
  },
  {
   "cell_type": "code",
   "execution_count": null,
   "metadata": {},
   "outputs": [],
   "source": [
    "url = \"http://127.0.0.1:5000/cars\"\n",
    "data = response.json()\n",
    "\n",
    "for car in data[\"cars\"]:\n",
    "    print(car)"
   ]
  },
  {
   "cell_type": "code",
   "execution_count": null,
   "metadata": {},
   "outputs": [],
   "source": [
    "url = \"http://127.0.0.1:5000/cars\"\n",
    "response = requests.get(url)\n",
    "data = response.json()\n",
    "\n",
    "#output to console\n",
    "print (data)\n",
    "\n",
    "#output cars individualy \n",
    "for car in data[\"cars\"]:\n",
    "    print (car)\n",
    "\n",
    "#other code\n",
    "#save this to a file\n",
    "filename = 'cars.json'\n",
    "if filename:\n",
    "    # Writing JSON data\n",
    "    with open(filename, 'w') as f:\n",
    "        json.dump(data, f, indent=4)\n",
    "\n",
    "# write to excel file\n",
    "w = Workbook()\n",
    "ws = w.add_sheet('cars')\n",
    "row = 0;\n",
    "ws.write(row,0,\"reg\")\n",
    "ws.write(row,1,\"make\")\n",
    "ws.write(row,2,\"model\")\n",
    "ws.write(row,3,\"price\")\n",
    "row += 1 \n",
    "for car in data[\"cars\"]:\n",
    "    ws.write(row,0, car[\"reg\"])\n",
    "    ws.write(row,1,car[\"make\"])\n",
    "    ws.write(row,2,car[\"model\"])\n",
    "    ws.write(row,3,car[\"price\"])\n",
    "    row += 1\n",
    "\n",
    "w.save('cars.xls')"
   ]
  },
  {
   "cell_type": "code",
   "execution_count": null,
   "metadata": {},
   "outputs": [],
   "source": []
  },
  {
   "cell_type": "code",
   "execution_count": null,
   "metadata": {},
   "outputs": [],
   "source": []
  },
  {
   "cell_type": "code",
   "execution_count": null,
   "metadata": {},
   "outputs": [],
   "source": []
  }
 ],
 "metadata": {
  "kernelspec": {
   "display_name": "Python 3",
   "language": "python",
   "name": "python3"
  },
  "language_info": {
   "codemirror_mode": {
    "name": "ipython",
    "version": 3
   },
   "file_extension": ".py",
   "mimetype": "text/x-python",
   "name": "python",
   "nbconvert_exporter": "python",
   "pygments_lexer": "ipython3",
   "version": "3.8.3"
  }
 },
 "nbformat": 4,
 "nbformat_minor": 4
}
